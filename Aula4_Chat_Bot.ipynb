{
  "nbformat": 4,
  "nbformat_minor": 0,
  "metadata": {
    "colab": {
      "provenance": [],
      "authorship_tag": "ABX9TyO6+VQVOfQSbMdfpVxWLd7P",
      "include_colab_link": true
    },
    "kernelspec": {
      "name": "python3",
      "display_name": "Python 3"
    },
    "language_info": {
      "name": "python"
    }
  },
  "cells": [
    {
      "cell_type": "markdown",
      "metadata": {
        "id": "view-in-github",
        "colab_type": "text"
      },
      "source": [
        "<a href=\"https://colab.research.google.com/github/FabrizioAMonaco/Projeto_Imersao_Alura/blob/main/Aula4_Chat_Bot.ipynb\" target=\"_parent\"><img src=\"https://colab.research.google.com/assets/colab-badge.svg\" alt=\"Open In Colab\"/></a>"
      ]
    },
    {
      "cell_type": "markdown",
      "source": [
        "Instalando o SDK do Google"
      ],
      "metadata": {
        "id": "Ol7Q3uhGm_9y"
      }
    },
    {
      "cell_type": "code",
      "execution_count": 6,
      "metadata": {
        "id": "owl9xEyGmpDH"
      },
      "outputs": [],
      "source": [
        "!pip install -q -U google-generativeai"
      ]
    },
    {
      "cell_type": "code",
      "source": [
        "import pathlib\n",
        "import textwrap\n",
        "\n",
        "import google.generativeai as genai\n",
        "\n",
        "# Used to securely store your API key\n",
        "from google.colab import userdata\n",
        "\n",
        "GOOGLE_API_KEY=userdata.get('GOOGLE_API_KEY')\n",
        "\n",
        "genai.configure(api_key=GOOGLE_API_KEY)"
      ],
      "metadata": {
        "id": "vZneOJrknZqB"
      },
      "execution_count": 7,
      "outputs": []
    },
    {
      "cell_type": "markdown",
      "source": [
        "Listar os modelos disponíveis.\n",
        "Dois tipos de modelos:\n",
        "- Pro => apenas texto\n",
        "- Pro-Vision => texto, imagem, vídeo\n",
        "- xxx-001 => versões experimentais especificamente\n",
        "- xxx-latest => utiliza a última versão experimental disponível (serve para ambiente de teste para novas versões)\n"
      ],
      "metadata": {
        "id": "-y-4q3X8n7y5"
      }
    },
    {
      "cell_type": "code",
      "source": [
        "for m in genai.list_models():\n",
        "  if 'generateContent' in m.supported_generation_methods:\n",
        "    print(m.name)"
      ],
      "metadata": {
        "colab": {
          "base_uri": "https://localhost:8080/",
          "height": 139
        },
        "id": "NiqAQwRnn1OX",
        "outputId": "07a505d2-7cbe-4504-e1f4-200a74a06853"
      },
      "execution_count": 8,
      "outputs": [
        {
          "output_type": "stream",
          "name": "stdout",
          "text": [
            "models/gemini-1.0-pro\n",
            "models/gemini-1.0-pro-001\n",
            "models/gemini-1.0-pro-latest\n",
            "models/gemini-1.0-pro-vision-latest\n",
            "models/gemini-1.5-pro-latest\n",
            "models/gemini-pro\n",
            "models/gemini-pro-vision\n"
          ]
        }
      ]
    },
    {
      "cell_type": "markdown",
      "source": [
        "Parâmetros de configuração do modelo GEMINI"
      ],
      "metadata": {
        "id": "HXDaFRsqXFiK"
      }
    },
    {
      "cell_type": "code",
      "source": [
        "generation_config = {\n",
        "    \"candidate_count\": 1,\n",
        "    \"temperature\": 0.5,\n",
        "}"
      ],
      "metadata": {
        "id": "QICqynY_U8c4"
      },
      "execution_count": 9,
      "outputs": []
    },
    {
      "cell_type": "markdown",
      "source": [
        "Parâmetros de configuração de filtro de segurança do modelo GEMINI\n",
        "\"BLOCK_NONE\" => sem bloqueio"
      ],
      "metadata": {
        "id": "hfhhl9B5XLXQ"
      }
    },
    {
      "cell_type": "code",
      "source": [
        "safety_settings = {\n",
        "    \"harassment\": \"BLOCK_NONE\",\n",
        "    \"HATE\": \"BLOCK_NONE\",\n",
        "    \"SEXUAL\": \"BLOCK_NONE\",\n",
        "    \"DANGEROUS\": \"BLOCK_NONE\",\n",
        "}"
      ],
      "metadata": {
        "id": "XGhLRUyYWY66"
      },
      "execution_count": 12,
      "outputs": []
    },
    {
      "cell_type": "markdown",
      "source": [
        "Inicializando o Modelo"
      ],
      "metadata": {
        "id": "yqffxjj2XXcZ"
      }
    },
    {
      "cell_type": "code",
      "source": [
        "model = genai.GenerativeModel(model_name=\"gemini-1.0-pro\",\n",
        "                              generation_config=generation_config,\n",
        "                              safety_settings=safety_settings)\n"
      ],
      "metadata": {
        "id": "8RCSGZbcXaJk"
      },
      "execution_count": 13,
      "outputs": []
    },
    {
      "cell_type": "code",
      "source": [
        "response = model.generate_content(\"Vamos aprender conteúdo sobre IA. Me dê sugestões.\")\n",
        "print(response.text)"
      ],
      "metadata": {
        "colab": {
          "base_uri": "https://localhost:8080/",
          "height": 798
        },
        "id": "q7UCJUAPYYeo",
        "outputId": "ce920e12-eaff-4d60-e519-b4620f811888"
      },
      "execution_count": 14,
      "outputs": [
        {
          "output_type": "stream",
          "name": "stdout",
          "text": [
            "**Conceitos Fundamentais**\n",
            "\n",
            "* O que é Inteligência Artificial (IA)?\n",
            "* Tipos de IA: aprendizado de máquina, aprendizado profundo, processamento de linguagem natural\n",
            "* Algoritmos de IA comuns: regressão, classificação, agrupamento\n",
            "\n",
            "**Aprendizado de Máquina**\n",
            "\n",
            "* Aprendizado supervisionado vs. não supervisionado\n",
            "* Modelos de aprendizado de máquina: árvores de decisão, redes neurais, máquinas de vetores de suporte\n",
            "* Avaliação de modelos de aprendizado de máquina: precisão, recall, pontuação F1\n",
            "\n",
            "**Aprendizado Profundo**\n",
            "\n",
            "* Redes neurais: arquitetura, treinamento, inferência\n",
            "* Redes convolucionais (CNNs): processamento de imagens\n",
            "* Redes recorrentes (RNNs): processamento de sequência\n",
            "\n",
            "**Processamento de Linguagem Natural (PNL)**\n",
            "\n",
            "* Representação de texto: vetores de palavras, modelos de linguagem\n",
            "* Tarefas de PNL: classificação de texto, geração de texto, tradução de idiomas\n",
            "* Modelos de PNL: BERT, GPT-3\n",
            "\n",
            "**Aplicações de IA**\n",
            "\n",
            "* Reconhecimento de imagem e vídeo\n",
            "* Processamento de linguagem natural (pesquisa, tradução)\n",
            "* Veículos autônomos\n",
            "* Diagnóstico médico\n",
            "* Finanças e previsão\n",
            "\n",
            "**Ética e Implicações Sociais da IA**\n",
            "\n",
            "* Viés e discriminação em algoritmos de IA\n",
            "* Privacidade e segurança de dados\n",
            "* Desemprego e desigualdade causados pela automação\n",
            "* Regulamentação e governança da IA\n",
            "\n",
            "**Recursos de Aprendizagem**\n",
            "\n",
            "* **Cursos Online:** Coursera, edX, Udemy\n",
            "* **Livros:** \"Inteligência Artificial: Um Guia Moderno\" por Stuart Russell e Peter Norvig, \"Aprendizado de Máquina\" por Tom Mitchell\n",
            "* **Blogs e Artigos:** Towards Data Science, MIT Technology Review\n",
            "* **Conferências e Eventos:** NeurIPS, ICML, CVPR\n"
          ]
        }
      ]
    },
    {
      "cell_type": "markdown",
      "source": [
        "os [] significa entrada de lista."
      ],
      "metadata": {
        "id": "JkQcPHr_a8r5"
      }
    },
    {
      "cell_type": "code",
      "source": [
        "chat = model.start_chat(history=[])"
      ],
      "metadata": {
        "id": "QFXvceyWaarG"
      },
      "execution_count": 15,
      "outputs": []
    },
    {
      "cell_type": "code",
      "source": [
        "prompt = input(\"Esperando o prompt: \")\n",
        "\n",
        "while prompt != \"fim\":\n",
        "  response = chat.send_message(prompt)\n",
        "  print(f\"Resposta: \", response.text, \"\\n\")\n",
        "  prompt = input(\"Esperando o prompt: \")"
      ],
      "metadata": {
        "colab": {
          "base_uri": "https://localhost:8080/",
          "height": 243
        },
        "id": "iLwyekZibDrE",
        "outputId": "8b8512b0-0159-4576-e34c-21e982bf3064"
      },
      "execution_count": 16,
      "outputs": [
        {
          "name": "stdout",
          "output_type": "stream",
          "text": [
            "Esperando o prompt: Qual é a capital do Japão?\n",
            "Resposta:  Tóquio \n",
            "\n",
            "Esperando o prompt: Qual é a comida típica deste país?\n",
            "Resposta:  Sushi \n",
            "\n",
            "Esperando o prompt: O meu primo nasceu nesta cidade, qual a nacionalidade dele?\n",
            "Resposta:  Japonesa \n",
            "\n",
            "Esperando o prompt: Qual a população desta cidade?\n",
            "Resposta:  13.960.236 (2023) \n",
            "\n",
            "Esperando o prompt: fim\n"
          ]
        }
      ]
    }
  ]
}